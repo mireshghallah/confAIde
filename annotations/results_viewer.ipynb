{
 "cells": [
  {
   "cell_type": "code",
   "execution_count": null,
   "metadata": {},
   "outputs": [],
   "source": [
    "import pandas as pd\n",
    "from tqdm import tqdm\n",
    "tqdm.pandas()"
   ]
  },
  {
   "cell_type": "code",
   "execution_count": null,
   "metadata": {},
   "outputs": [],
   "source": [
    "t1 = pd.read_csv(\"results_tier_1_n5.csv\")\n",
    "target_columns = [\"Input.information\", \"Answer.peoplePrivacyQuestion\", \"Answer.personalPrivacyQuestion\"]\n",
    "t1[target_columns].groupby(\"Input.information\").agg([\"mean\", \"count\", \"std\"])"
   ]
  },
  {
   "cell_type": "code",
   "execution_count": null,
   "metadata": {},
   "outputs": [],
   "source": [
    "t2a = pd.read_csv(\"results_tier_2a_n5.csv\")\n",
    "t2a['Input.scenario'] = t2a['Input.scenario'].apply(lambda x: x.split(\"Information about \")[-1])\n",
    "target_columns = [\"Input.scenario\", \"Answer.peoplePrivacyQuestion\", \"Answer.personalPrivacyQuestion\"]\n",
    "# t2a[target_columns].groupby(\"Input.scenario\").agg([\"mean\", \"count\", \"std\"])\n",
    "# t2a[target_columns].groupby(\"Input.scenario\").agg([\"mean\", \"count\", \"std\"])['Answer.peoplePrivacyQuestion']['mean'].to_list() # it's ordered by the alphabetical order of the scenario\n",
    "t2a[target_columns].groupby(\"Input.scenario\").agg([\"mean\", \"count\", \"std\"])['Answer.personalPrivacyQuestion']['mean'].to_list()"
   ]
  },
  {
   "cell_type": "code",
   "execution_count": null,
   "metadata": {},
   "outputs": [],
   "source": [
    "t2b = pd.read_csv(\"results_tier_2b_n5.csv\")\n",
    "t2b['Input.scenario'] = t2b['Input.scenario'].apply(lambda x: x.split(\"Information about \")[-1])\n",
    "target_columns = [\"Input.scenario\", \"Answer.peoplePrivacyQuestion\", \"Answer.personalPrivacyQuestion\"]\n",
    "# t4[target_columns].groupby(\"Input.scenario\").agg([\"mean\", \"count\", \"std\"])\n",
    "# t4[target_columns].groupby(\"Input.scenario\").agg([\"mean\", \"count\", \"std\"])['Answer.peoplePrivacyQuestion']['mean'].to_list() # it's ordered by the alphabetical order of the scenario\n",
    "t2b[target_columns].groupby(\"Input.scenario\").agg([\"mean\", \"count\", \"std\"])['Answer.personalPrivacyQuestion']['mean'].to_list()"
   ]
  },
  {
   "cell_type": "code",
   "execution_count": null,
   "metadata": {},
   "outputs": [],
   "source": [
    "t3 = pd.read_csv(\"results_tier_3_n5.csv\")\n",
    "target_columns = [\"Input.scenario_idx\", \"Input.scenario\", \"Answer.privacyQuestion\", \"Answer.coherencyQuestion\", \"Answer.safetyQuestion\", \"Answer.commentbox\"]\n",
    "t3_votings = t3.groupby(\"Input.scenario_idx\")['Answer.privacyQuestion'].agg(lambda x: x.value_counts()).copy() #['Answer.privacyQuestion']\n",
    "t3_majority_votes = t3.groupby(\"Input.scenario_idx\")['Answer.privacyQuestion'].agg(lambda x: x.value_counts().index[0]).copy()\n",
    "t3_votings = pd.DataFrame(t3_votings).reset_index()\n",
    "t3_majority = pd.DataFrame(t3_majority_votes).reset_index()\n",
    "# t3_votings[t3_votings['Answer.privacyQuestion'] == 5].index\n"
   ]
  },
  {
   "cell_type": "code",
   "execution_count": null,
   "metadata": {},
   "outputs": [],
   "source": [
    "t3_votings = t3_votings.rename(columns={\"Answer.privacyQuestion\": \"votings\"})\n",
    "t3_majority = t3_majority.rename(columns={\"Answer.privacyQuestion\": \"majority\"})\n",
    "t3_votings['majority'] = t3_majority['majority']\n",
    "t3_votings.head(3)"
   ]
  },
  {
   "cell_type": "code",
   "execution_count": null,
   "metadata": {},
   "outputs": [],
   "source": [
    "t3_set = t3_votings.set_index(\"Input.scenario_idx\").join(t3[['Input.scenario', 'Input.scenario_idx']].drop_duplicates().set_index(\"Input.scenario_idx\"))\n",
    "reveal_preferred = t3_set[t3_set['majority'] == 'revealing'].reset_index()[['Input.scenario_idx', 'Input.scenario']]\n",
    "for idx, row in reveal_preferred.iterrows():\n",
    "    print(f\"Scenario {row['Input.scenario_idx']}:\\n{row['Input.scenario']}\\n\")"
   ]
  },
  {
   "cell_type": "code",
   "execution_count": null,
   "metadata": {},
   "outputs": [],
   "source": [
    "t3_set[t3_set['majority'] == 'revealing']"
   ]
  },
  {
   "cell_type": "code",
   "execution_count": null,
   "metadata": {},
   "outputs": [],
   "source": [
    "# t3_set['votings'].astype(str)\n",
    "t3_set[t3_set['majority'] == 'generic']['votings'].astype(str).value_counts(normalize=False)"
   ]
  },
  {
   "cell_type": "code",
   "execution_count": null,
   "metadata": {},
   "outputs": [],
   "source": [
    "t3[t3['Answer.commentbox']!='{}']['Answer.commentbox'].to_list()"
   ]
  },
  {
   "cell_type": "code",
   "execution_count": null,
   "metadata": {},
   "outputs": [],
   "source": [
    "t3_set['majority'].value_counts()"
   ]
  },
  {
   "cell_type": "code",
   "execution_count": null,
   "metadata": {},
   "outputs": [],
   "source": [
    "t3_set[(t3.groupby('Input.scenario_idx')['Answer.safetyQuestion'].agg('sum') >= 3)]"
   ]
  },
  {
   "cell_type": "code",
   "execution_count": null,
   "metadata": {},
   "outputs": [],
   "source": [
    "# {'alpha': 0.07068888888888714, 'ppa': 0.9632592592592591, 'rnd_ppa': 0.9604645416357795, 'skew': 0.022222222222222223, 'n': 270} for Tier 3. You need to convert the \"revealing\" and \"generic\" options to some integers to compute the agreement with the agreement.py.\n",
    "# Out of the samples, only 9 had the majority votes to disclose private information, and each of them received no more than 3 out of 5 votes. Meanwhile, 90% of the samples that preferred to keep the information private received at least 4 votes."
   ]
  },
  {
   "cell_type": "code",
   "execution_count": null,
   "metadata": {},
   "outputs": [],
   "source": [
    "t1['RequesterAnnotation'].unique()\n",
    "t2a['RequesterAnnotation'].unique()\n",
    "t2b['RequesterAnnotation'].unique()\n",
    "t3['RequesterAnnotation'].unique()"
   ]
  },
  {
   "cell_type": "code",
   "execution_count": null,
   "metadata": {},
   "outputs": [],
   "source": []
  }
 ],
 "metadata": {
  "kernelspec": {
   "display_name": "privacy-project",
   "language": "python",
   "name": "python3"
  },
  "language_info": {
   "codemirror_mode": {
    "name": "ipython",
    "version": 3
   },
   "file_extension": ".py",
   "mimetype": "text/x-python",
   "name": "python",
   "nbconvert_exporter": "python",
   "pygments_lexer": "ipython3",
   "version": "3.9.16"
  },
  "orig_nbformat": 4
 },
 "nbformat": 4,
 "nbformat_minor": 2
}
