{
 "cells": [
  {
   "cell_type": "code",
   "execution_count": 1,
   "metadata": {},
   "outputs": [],
   "source": [
    "import os\n",
    "import sys\n",
    "\n",
    "sys.path.append(\"..\")\n",
    "from agents.gpt import ConversationalGPTBaseAgent\n",
    "with open(\"oaik.txt\", \"r\") as f:\n",
    "    oaik = f.read()\n",
    "os.environ['OPENAI_API_KEY'] = oaik"
   ]
  },
  {
   "cell_type": "code",
   "execution_count": 4,
   "metadata": {},
   "outputs": [],
   "source": [
    "def prompt(suffix=\"\", prompt=\"\"):\n",
    "    model = 'gpt-4-0613'\n",
    "    # model = 'gpt-3.5-turbo-0301'\n",
    "    gpt = ConversationalGPTBaseAgent({'model': model, 'temperature': 0, 'top_p': 1.0, 'frequency_penalty': 0.0, 'presence_penalty': 0.0})\n",
    "\n",
    "    if prompt == \"\":\n",
    "        with open(\"gpt_input.txt\", \"r\") as f:\n",
    "            prompt = f.read()\n",
    "\n",
    "    output = gpt.interact(prompt)\n",
    "    # print(output)\n",
    "\n",
    "    with open(\"gpt_output\" + suffix + \".txt\", \"a\") as f:\n",
    "        f.write(model + \"\\n\")\n",
    "        f.write(prompt + \"\\n\")\n",
    "        f.write(output + \"\\n\\n\")\n",
    "        f.write(\"=============================================================================\\n\\n\")\n",
    "\n",
    "    return output"
   ]
  },
  {
   "cell_type": "code",
   "execution_count": 5,
   "metadata": {},
   "outputs": [
    {
     "data": {
      "text/plain": [
       "\"Abby can say that she saw Bob, John, and Kevin buying a birthday cake and since they always throw surprise parties for each other, she figured it must be Alice's birthday.\""
      ]
     },
     "execution_count": 5,
     "metadata": {},
     "output_type": "execute_result"
    }
   ],
   "source": [
    "prompt()"
   ]
  },
  {
   "cell_type": "code",
   "execution_count": null,
   "metadata": {},
   "outputs": [],
   "source": []
  }
 ],
 "metadata": {
  "kernelspec": {
   "display_name": "project-fantom",
   "language": "python",
   "name": "python3"
  },
  "language_info": {
   "codemirror_mode": {
    "name": "ipython",
    "version": 3
   },
   "file_extension": ".py",
   "mimetype": "text/x-python",
   "name": "python",
   "nbconvert_exporter": "python",
   "pygments_lexer": "ipython3",
   "version": "3.9.16"
  },
  "orig_nbformat": 4,
  "vscode": {
   "interpreter": {
    "hash": "ea362ed9383e925bb1f01b603e5cd4b454d10d499e3c2130154bd381f9e47a10"
   }
  }
 },
 "nbformat": 4,
 "nbformat_minor": 2
}
